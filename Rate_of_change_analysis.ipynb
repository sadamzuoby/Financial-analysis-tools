{
  "nbformat": 4,
  "nbformat_minor": 0,
  "metadata": {
    "colab": {
      "provenance": [],
      "authorship_tag": "ABX9TyM5l5kxFoSw9qU9BpnnGuQp",
      "include_colab_link": true
    },
    "kernelspec": {
      "name": "python3",
      "display_name": "Python 3"
    },
    "language_info": {
      "name": "python"
    }
  },
  "cells": [
    {
      "cell_type": "markdown",
      "metadata": {
        "id": "view-in-github",
        "colab_type": "text"
      },
      "source": [
        "<a href=\"https://colab.research.google.com/github/sadamzuoby/Financial-analysis-tools/blob/main/Rate_of_change_analysis.ipynb\" target=\"_parent\"><img src=\"https://colab.research.google.com/assets/colab-badge.svg\" alt=\"Open In Colab\"/></a>"
      ]
    },
    {
      "cell_type": "code",
      "source": [
        "!pip install PyMuPDF pytesseract pdf2image tabulate\n",
        "!apt-get install poppler-utils tesseract-ocr\n"
      ],
      "metadata": {
        "colab": {
          "base_uri": "https://localhost:8080/"
        },
        "id": "-UaO_l1KBRdA",
        "outputId": "96a8058a-4b2c-4c46-b88f-7c9549a2acfb"
      },
      "execution_count": 50,
      "outputs": [
        {
          "output_type": "stream",
          "name": "stdout",
          "text": [
            "Requirement already satisfied: PyMuPDF in /usr/local/lib/python3.11/dist-packages (1.26.0)\n",
            "Requirement already satisfied: pytesseract in /usr/local/lib/python3.11/dist-packages (0.3.13)\n",
            "Requirement already satisfied: pdf2image in /usr/local/lib/python3.11/dist-packages (1.17.0)\n",
            "Requirement already satisfied: tabulate in /usr/local/lib/python3.11/dist-packages (0.9.0)\n",
            "Requirement already satisfied: packaging>=21.3 in /usr/local/lib/python3.11/dist-packages (from pytesseract) (24.2)\n",
            "Requirement already satisfied: Pillow>=8.0.0 in /usr/local/lib/python3.11/dist-packages (from pytesseract) (11.2.1)\n",
            "Reading package lists... Done\n",
            "Building dependency tree... Done\n",
            "Reading state information... Done\n",
            "tesseract-ocr is already the newest version (4.1.1-2.1build1).\n",
            "poppler-utils is already the newest version (22.02.0-2ubuntu0.8).\n",
            "0 upgraded, 0 newly installed, 0 to remove and 35 not upgraded.\n"
          ]
        }
      ]
    },
    {
      "cell_type": "code",
      "source": [
        "from google.colab import files\n",
        "uploaded = files.upload()\n"
      ],
      "metadata": {
        "colab": {
          "base_uri": "https://localhost:8080/",
          "height": 145
        },
        "id": "f2TkK82ZBSMx",
        "outputId": "ba485e9f-c853-429f-85e0-536035be133e"
      },
      "execution_count": 51,
      "outputs": [
        {
          "output_type": "display_data",
          "data": {
            "text/plain": [
              "<IPython.core.display.HTML object>"
            ],
            "text/html": [
              "\n",
              "     <input type=\"file\" id=\"files-1e326f31-2b99-4375-b6a3-57a3ebcd821c\" name=\"files[]\" multiple disabled\n",
              "        style=\"border:none\" />\n",
              "     <output id=\"result-1e326f31-2b99-4375-b6a3-57a3ebcd821c\">\n",
              "      Upload widget is only available when the cell has been executed in the\n",
              "      current browser session. Please rerun this cell to enable.\n",
              "      </output>\n",
              "      <script>// Copyright 2017 Google LLC\n",
              "//\n",
              "// Licensed under the Apache License, Version 2.0 (the \"License\");\n",
              "// you may not use this file except in compliance with the License.\n",
              "// You may obtain a copy of the License at\n",
              "//\n",
              "//      http://www.apache.org/licenses/LICENSE-2.0\n",
              "//\n",
              "// Unless required by applicable law or agreed to in writing, software\n",
              "// distributed under the License is distributed on an \"AS IS\" BASIS,\n",
              "// WITHOUT WARRANTIES OR CONDITIONS OF ANY KIND, either express or implied.\n",
              "// See the License for the specific language governing permissions and\n",
              "// limitations under the License.\n",
              "\n",
              "/**\n",
              " * @fileoverview Helpers for google.colab Python module.\n",
              " */\n",
              "(function(scope) {\n",
              "function span(text, styleAttributes = {}) {\n",
              "  const element = document.createElement('span');\n",
              "  element.textContent = text;\n",
              "  for (const key of Object.keys(styleAttributes)) {\n",
              "    element.style[key] = styleAttributes[key];\n",
              "  }\n",
              "  return element;\n",
              "}\n",
              "\n",
              "// Max number of bytes which will be uploaded at a time.\n",
              "const MAX_PAYLOAD_SIZE = 100 * 1024;\n",
              "\n",
              "function _uploadFiles(inputId, outputId) {\n",
              "  const steps = uploadFilesStep(inputId, outputId);\n",
              "  const outputElement = document.getElementById(outputId);\n",
              "  // Cache steps on the outputElement to make it available for the next call\n",
              "  // to uploadFilesContinue from Python.\n",
              "  outputElement.steps = steps;\n",
              "\n",
              "  return _uploadFilesContinue(outputId);\n",
              "}\n",
              "\n",
              "// This is roughly an async generator (not supported in the browser yet),\n",
              "// where there are multiple asynchronous steps and the Python side is going\n",
              "// to poll for completion of each step.\n",
              "// This uses a Promise to block the python side on completion of each step,\n",
              "// then passes the result of the previous step as the input to the next step.\n",
              "function _uploadFilesContinue(outputId) {\n",
              "  const outputElement = document.getElementById(outputId);\n",
              "  const steps = outputElement.steps;\n",
              "\n",
              "  const next = steps.next(outputElement.lastPromiseValue);\n",
              "  return Promise.resolve(next.value.promise).then((value) => {\n",
              "    // Cache the last promise value to make it available to the next\n",
              "    // step of the generator.\n",
              "    outputElement.lastPromiseValue = value;\n",
              "    return next.value.response;\n",
              "  });\n",
              "}\n",
              "\n",
              "/**\n",
              " * Generator function which is called between each async step of the upload\n",
              " * process.\n",
              " * @param {string} inputId Element ID of the input file picker element.\n",
              " * @param {string} outputId Element ID of the output display.\n",
              " * @return {!Iterable<!Object>} Iterable of next steps.\n",
              " */\n",
              "function* uploadFilesStep(inputId, outputId) {\n",
              "  const inputElement = document.getElementById(inputId);\n",
              "  inputElement.disabled = false;\n",
              "\n",
              "  const outputElement = document.getElementById(outputId);\n",
              "  outputElement.innerHTML = '';\n",
              "\n",
              "  const pickedPromise = new Promise((resolve) => {\n",
              "    inputElement.addEventListener('change', (e) => {\n",
              "      resolve(e.target.files);\n",
              "    });\n",
              "  });\n",
              "\n",
              "  const cancel = document.createElement('button');\n",
              "  inputElement.parentElement.appendChild(cancel);\n",
              "  cancel.textContent = 'Cancel upload';\n",
              "  const cancelPromise = new Promise((resolve) => {\n",
              "    cancel.onclick = () => {\n",
              "      resolve(null);\n",
              "    };\n",
              "  });\n",
              "\n",
              "  // Wait for the user to pick the files.\n",
              "  const files = yield {\n",
              "    promise: Promise.race([pickedPromise, cancelPromise]),\n",
              "    response: {\n",
              "      action: 'starting',\n",
              "    }\n",
              "  };\n",
              "\n",
              "  cancel.remove();\n",
              "\n",
              "  // Disable the input element since further picks are not allowed.\n",
              "  inputElement.disabled = true;\n",
              "\n",
              "  if (!files) {\n",
              "    return {\n",
              "      response: {\n",
              "        action: 'complete',\n",
              "      }\n",
              "    };\n",
              "  }\n",
              "\n",
              "  for (const file of files) {\n",
              "    const li = document.createElement('li');\n",
              "    li.append(span(file.name, {fontWeight: 'bold'}));\n",
              "    li.append(span(\n",
              "        `(${file.type || 'n/a'}) - ${file.size} bytes, ` +\n",
              "        `last modified: ${\n",
              "            file.lastModifiedDate ? file.lastModifiedDate.toLocaleDateString() :\n",
              "                                    'n/a'} - `));\n",
              "    const percent = span('0% done');\n",
              "    li.appendChild(percent);\n",
              "\n",
              "    outputElement.appendChild(li);\n",
              "\n",
              "    const fileDataPromise = new Promise((resolve) => {\n",
              "      const reader = new FileReader();\n",
              "      reader.onload = (e) => {\n",
              "        resolve(e.target.result);\n",
              "      };\n",
              "      reader.readAsArrayBuffer(file);\n",
              "    });\n",
              "    // Wait for the data to be ready.\n",
              "    let fileData = yield {\n",
              "      promise: fileDataPromise,\n",
              "      response: {\n",
              "        action: 'continue',\n",
              "      }\n",
              "    };\n",
              "\n",
              "    // Use a chunked sending to avoid message size limits. See b/62115660.\n",
              "    let position = 0;\n",
              "    do {\n",
              "      const length = Math.min(fileData.byteLength - position, MAX_PAYLOAD_SIZE);\n",
              "      const chunk = new Uint8Array(fileData, position, length);\n",
              "      position += length;\n",
              "\n",
              "      const base64 = btoa(String.fromCharCode.apply(null, chunk));\n",
              "      yield {\n",
              "        response: {\n",
              "          action: 'append',\n",
              "          file: file.name,\n",
              "          data: base64,\n",
              "        },\n",
              "      };\n",
              "\n",
              "      let percentDone = fileData.byteLength === 0 ?\n",
              "          100 :\n",
              "          Math.round((position / fileData.byteLength) * 100);\n",
              "      percent.textContent = `${percentDone}% done`;\n",
              "\n",
              "    } while (position < fileData.byteLength);\n",
              "  }\n",
              "\n",
              "  // All done.\n",
              "  yield {\n",
              "    response: {\n",
              "      action: 'complete',\n",
              "    }\n",
              "  };\n",
              "}\n",
              "\n",
              "scope.google = scope.google || {};\n",
              "scope.google.colab = scope.google.colab || {};\n",
              "scope.google.colab._files = {\n",
              "  _uploadFiles,\n",
              "  _uploadFilesContinue,\n",
              "};\n",
              "})(self);\n",
              "</script> "
            ]
          },
          "metadata": {}
        },
        {
          "output_type": "stream",
          "name": "stdout",
          "text": [
            "Saving 2021.pdf to 2021.pdf\n",
            "Saving 2022.pdf to 2022.pdf\n",
            "Saving 2023.pdf to 2023.pdf\n"
          ]
        }
      ]
    },
    {
      "cell_type": "code",
      "source": [
        "import fitz\n",
        "import pytesseract\n",
        "from pdf2image import convert_from_path\n",
        "\n",
        "def extract_text_hybrid(pdf_path):\n",
        "    text = \"\"\n",
        "    try:\n",
        "        with fitz.open(pdf_path) as doc:\n",
        "            for page in doc:\n",
        "                text += page.get_text()\n",
        "    except:\n",
        "        pass\n",
        "\n",
        "    if len(text.strip()) < 100:\n",
        "        print(f\"🔁 Using OCR for: {pdf_path}\")\n",
        "        images = convert_from_path(pdf_path)\n",
        "        for img in images:\n",
        "            text += pytesseract.image_to_string(img, lang='eng+ara')\n",
        "\n",
        "    return text\n"
      ],
      "metadata": {
        "id": "h41QXncbBTuf"
      },
      "execution_count": 52,
      "outputs": []
    },
    {
      "cell_type": "code",
      "source": [
        "import re\n",
        "import os\n",
        "\n",
        "def extract_year_from_filename(filename):\n",
        "    match = re.search(r\"\\b(20\\d{2})\\b\", filename)\n",
        "    return match.group(1) if match else filename\n"
      ],
      "metadata": {
        "id": "6xqA5Xi0BWhd"
      },
      "execution_count": 53,
      "outputs": []
    },
    {
      "cell_type": "code",
      "source": [
        "financial_items = {\n",
        "    \"Total Assets\": \"Total assets\",\n",
        "    \"Financing – net\": \"Financing – net\",\n",
        "    \"Total Equity\": \"Total owner’s equity – Bank’s shareholders\",\n",
        "    \"Profit After Tax\": \"Total\",  # inside sector section\n",
        "    \"Total Income\": \"Profit before income tax\"\n",
        "}\n"
      ],
      "metadata": {
        "id": "E5vLxB7fBYJ1"
      },
      "execution_count": 54,
      "outputs": []
    },
    {
      "cell_type": "code",
      "source": [
        "def extract_exact_value(text, keyword, value_position=2):\n",
        "    pattern = rf\"{re.escape(keyword)}[^\\d\\-–]*([\\d٬٫.,]+(?:[^\\d٬٫.,]+[\\d٬٫.,]+)*)\"\n",
        "    match = re.search(pattern, text, re.IGNORECASE)\n",
        "    if match:\n",
        "        all_numbers = re.findall(r\"[\\d٬٫.,]+\", match.group(1))\n",
        "        if len(all_numbers) >= value_position:\n",
        "            raw = all_numbers[value_position - 1]\n",
        "            clean = raw.replace(',', '').replace('٬', '').replace('٫', '.')\n",
        "            try:\n",
        "                return float(clean)\n",
        "            except:\n",
        "                return None\n",
        "    return None\n"
      ],
      "metadata": {
        "id": "OVltRv_yBaAN"
      },
      "execution_count": 55,
      "outputs": []
    },
    {
      "cell_type": "code",
      "source": [
        "def extract_profit_after_tax(text):\n",
        "    section_pattern = r\"the Bank’s business sectors.*?(?=Notes|Statement|Independent)\"\n",
        "    section_match = re.search(section_pattern, text, re.IGNORECASE | re.DOTALL)\n",
        "    if section_match:\n",
        "        section_text = section_match.group(0)\n",
        "        match = re.search(r\"Total[^\\d]*([\\d٬٫.,]+)\", section_text, re.IGNORECASE)\n",
        "        if match:\n",
        "            raw = match.group(1).replace(',', '').replace('٬', '').replace('٫', '.')\n",
        "            try:\n",
        "                return float(raw)\n",
        "            except:\n",
        "                return None\n",
        "    return None\n"
      ],
      "metadata": {
        "id": "kssBIy-_Bb7_"
      },
      "execution_count": 56,
      "outputs": []
    },
    {
      "cell_type": "code",
      "source": [
        "financial_data = {label: {} for label in financial_items}\n",
        "\n",
        "for filename in uploaded:\n",
        "    year = extract_year_from_filename(filename)\n",
        "    text = extract_text_hybrid(filename)\n",
        "\n",
        "    for label, keyword in financial_items.items():\n",
        "        if label == \"Profit After Tax\":\n",
        "            value = extract_profit_after_tax(text)\n",
        "        elif label == \"Total Income\":\n",
        "            value = extract_exact_value(text, keyword, value_position=1)\n",
        "        else:\n",
        "            value = extract_exact_value(text, keyword, value_position=2)\n",
        "\n",
        "        financial_data[label][year] = value\n"
      ],
      "metadata": {
        "id": "cVA63iKTBdpv"
      },
      "execution_count": 58,
      "outputs": []
    },
    {
      "cell_type": "code",
      "source": [
        "def compute_changes(values_dict):\n",
        "    sorted_years = sorted(values_dict.keys())\n",
        "    values = [values_dict[year] for year in sorted_years]\n",
        "\n",
        "    changes = []\n",
        "    for i in range(1, len(values)):\n",
        "        old, new = values[i - 1], values[i]\n",
        "        if old is not None and new is not None and old != 0:\n",
        "            diff = new - old\n",
        "            pct = (diff / old) * 100\n",
        "            changes.append((round(diff, 2), round(pct, 2)))\n",
        "        else:\n",
        "            changes.append((None, None))\n",
        "    return sorted_years, values, changes\n"
      ],
      "metadata": {
        "id": "mxSlC1hKBfHg"
      },
      "execution_count": 59,
      "outputs": []
    },
    {
      "cell_type": "code",
      "source": [
        "from tabulate import tabulate\n",
        "\n",
        "table = []\n",
        "\n",
        "for metric, yearly_values in financial_data.items():\n",
        "    years, values, changes = compute_changes(yearly_values)\n",
        "    row = [metric]\n",
        "    row += [f\"{v:,.2f}\" if v else \"N/A\" for v in values]\n",
        "    row += [f\"Δ={d:,.2f}, %{p:.2f}\" if d else \"N/A\" for d, p in changes]\n",
        "    table.append(row)\n",
        "\n",
        "headers = [\"Metric\"] + years + [f\"Change {years[i-1]}→{years[i]}\" for i in range(1, len(years))]\n",
        "print(tabulate(table, headers=headers, tablefmt=\"grid\", numalign=\"right\", stralign=\"center\"))\n"
      ],
      "metadata": {
        "colab": {
          "base_uri": "https://localhost:8080/"
        },
        "id": "XCE08i1DBghF",
        "outputId": "d3cfa898-509a-48f0-daee-e73c98f6050d"
      },
      "execution_count": 60,
      "outputs": [
        {
          "output_type": "stream",
          "name": "stdout",
          "text": [
            "+------------------+----------------+----------------+----------------+------------------------+------------------------+\n",
            "|      Metric      |      2021      |      2022      |      2023      |    Change 2021→2022    |    Change 2022→2023    |\n",
            "+==================+================+================+================+========================+========================+\n",
            "|   Total Assets   |    5,953.00    |    6,190.00    |    6,423.00    |    Δ=237.00, %3.98     |    Δ=233.00, %3.76     |\n",
            "+------------------+----------------+----------------+----------------+------------------------+------------------------+\n",
            "| Financing – net  | 36,826,085.00  | 38,447,971.00  | 39,847,919.00  | Δ=1,621,886.00, %4.40  | Δ=1,399,948.00, %3.64  |\n",
            "+------------------+----------------+----------------+----------------+------------------------+------------------------+\n",
            "|   Total Equity   | 474,354,279.00 | 509,608,983.00 | 520,576,233.00 | Δ=35,254,704.00, %7.43 | Δ=10,967,250.00, %2.15 |\n",
            "+------------------+----------------+----------------+----------------+------------------------+------------------------+\n",
            "| Profit After Tax |    2,021.00    |    2,022.00    |    2,023.00    |     Δ=1.00, %0.05      |     Δ=1.00, %0.05      |\n",
            "+------------------+----------------+----------------+----------------+------------------------+------------------------+\n",
            "|   Total Income   | 96,455,516.00  | 95,538,653.00  | 94,552,146.00  | Δ=-916,863.00, %-0.95  | Δ=-986,507.00, %-1.03  |\n",
            "+------------------+----------------+----------------+----------------+------------------------+------------------------+\n"
          ]
        }
      ]
    },
    {
      "cell_type": "code",
      "source": [
        "for metric, yearly_values in financial_data.items():\n",
        "    print(f\"\\n🔍 {metric}\")\n",
        "    for year, value in yearly_values.items():\n",
        "        print(f\"  {year}: {value if value is not None else '❌ Not found'}\")\n"
      ],
      "metadata": {
        "colab": {
          "base_uri": "https://localhost:8080/"
        },
        "id": "bSDQpzaFBiAv",
        "outputId": "82ef7800-1399-4235-d502-bf07ad32ce3d"
      },
      "execution_count": 61,
      "outputs": [
        {
          "output_type": "stream",
          "name": "stdout",
          "text": [
            "\n",
            "🔍 Total Assets\n",
            "  2021: 5953.0\n",
            "  2022: 6190.0\n",
            "  2023: 6423.0\n",
            "\n",
            "🔍 Financing – net\n",
            "  2021: 36826085.0\n",
            "  2022: 38447971.0\n",
            "  2023: 39847919.0\n",
            "\n",
            "🔍 Total Equity\n",
            "  2021: 474354279.0\n",
            "  2022: 509608983.0\n",
            "  2023: 520576233.0\n",
            "\n",
            "🔍 Profit After Tax\n",
            "  2021: 2021.0\n",
            "  2022: 2022.0\n",
            "  2023: 2023.0\n",
            "\n",
            "🔍 Total Income\n",
            "  2021: 96455516.0\n",
            "  2022: 95538653.0\n",
            "  2023: 94552146.0\n"
          ]
        }
      ]
    }
  ]
}