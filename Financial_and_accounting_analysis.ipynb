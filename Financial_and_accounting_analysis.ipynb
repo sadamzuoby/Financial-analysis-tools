{
  "nbformat": 4,
  "nbformat_minor": 0,
  "metadata": {
    "colab": {
      "provenance": [],
      "toc_visible": true,
      "authorship_tag": "ABX9TyM9fhGLRLBHVolx7LMxC8T2",
      "include_colab_link": true
    },
    "kernelspec": {
      "name": "python3",
      "display_name": "Python 3"
    },
    "language_info": {
      "name": "python"
    }
  },
  "cells": [
    {
      "cell_type": "markdown",
      "metadata": {
        "id": "view-in-github",
        "colab_type": "text"
      },
      "source": [
        "<a href=\"https://colab.research.google.com/github/sadamzuoby/Financial-analysis-tools/blob/main/Financial_and_accounting_analysis.ipynb\" target=\"_parent\"><img src=\"https://colab.research.google.com/assets/colab-badge.svg\" alt=\"Open In Colab\"/></a>"
      ]
    },
    {
      "cell_type": "markdown",
      "source": [
        "التحليل المحاسبي"
      ],
      "metadata": {
        "id": "80IRgvb5tS6D"
      }
    },
    {
      "cell_type": "code",
      "source": [
        "!pip install PyMuPDF\n",
        "!pip install tabulate"
      ],
      "metadata": {
        "colab": {
          "base_uri": "https://localhost:8080/"
        },
        "id": "w5COXq3HtSRt",
        "outputId": "e50cb8cd-705a-4a1b-ea1a-986cc26e1625"
      },
      "execution_count": null,
      "outputs": [
        {
          "output_type": "stream",
          "name": "stdout",
          "text": [
            "Collecting PyMuPDF\n",
            "  Downloading pymupdf-1.26.0-cp39-abi3-manylinux2014_x86_64.manylinux_2_17_x86_64.whl.metadata (3.4 kB)\n",
            "Downloading pymupdf-1.26.0-cp39-abi3-manylinux2014_x86_64.manylinux_2_17_x86_64.whl (24.1 MB)\n",
            "\u001b[2K   \u001b[90m━━━━━━━━━━━━━━━━━━━━━━━━━━━━━━━━━━━━━━━━\u001b[0m \u001b[32m24.1/24.1 MB\u001b[0m \u001b[31m29.4 MB/s\u001b[0m eta \u001b[36m0:00:00\u001b[0m\n",
            "\u001b[?25hInstalling collected packages: PyMuPDF\n",
            "Successfully installed PyMuPDF-1.26.0\n",
            "Requirement already satisfied: tabulate in /usr/local/lib/python3.11/dist-packages (0.9.0)\n"
          ]
        }
      ]
    },
    {
      "cell_type": "markdown",
      "source": [
        "**رفع** ملفات PDF للقوائم المالية"
      ],
      "metadata": {
        "id": "cTe1BtC-tgcy"
      }
    },
    {
      "cell_type": "code",
      "execution_count": null,
      "metadata": {
        "colab": {
          "base_uri": "https://localhost:8080/",
          "height": 38
        },
        "id": "KlVqynVDl95C",
        "outputId": "3a776ab7-583b-4dce-882b-bea8bb59feb8"
      },
      "outputs": [
        {
          "output_type": "display_data",
          "data": {
            "text/plain": [
              "<IPython.core.display.HTML object>"
            ],
            "text/html": [
              "\n",
              "     <input type=\"file\" id=\"files-d6730a6c-e553-4116-a35e-84914683c956\" name=\"files[]\" multiple disabled\n",
              "        style=\"border:none\" />\n",
              "     <output id=\"result-d6730a6c-e553-4116-a35e-84914683c956\">\n",
              "      Upload widget is only available when the cell has been executed in the\n",
              "      current browser session. Please rerun this cell to enable.\n",
              "      </output>\n",
              "      <script>// Copyright 2017 Google LLC\n",
              "//\n",
              "// Licensed under the Apache License, Version 2.0 (the \"License\");\n",
              "// you may not use this file except in compliance with the License.\n",
              "// You may obtain a copy of the License at\n",
              "//\n",
              "//      http://www.apache.org/licenses/LICENSE-2.0\n",
              "//\n",
              "// Unless required by applicable law or agreed to in writing, software\n",
              "// distributed under the License is distributed on an \"AS IS\" BASIS,\n",
              "// WITHOUT WARRANTIES OR CONDITIONS OF ANY KIND, either express or implied.\n",
              "// See the License for the specific language governing permissions and\n",
              "// limitations under the License.\n",
              "\n",
              "/**\n",
              " * @fileoverview Helpers for google.colab Python module.\n",
              " */\n",
              "(function(scope) {\n",
              "function span(text, styleAttributes = {}) {\n",
              "  const element = document.createElement('span');\n",
              "  element.textContent = text;\n",
              "  for (const key of Object.keys(styleAttributes)) {\n",
              "    element.style[key] = styleAttributes[key];\n",
              "  }\n",
              "  return element;\n",
              "}\n",
              "\n",
              "// Max number of bytes which will be uploaded at a time.\n",
              "const MAX_PAYLOAD_SIZE = 100 * 1024;\n",
              "\n",
              "function _uploadFiles(inputId, outputId) {\n",
              "  const steps = uploadFilesStep(inputId, outputId);\n",
              "  const outputElement = document.getElementById(outputId);\n",
              "  // Cache steps on the outputElement to make it available for the next call\n",
              "  // to uploadFilesContinue from Python.\n",
              "  outputElement.steps = steps;\n",
              "\n",
              "  return _uploadFilesContinue(outputId);\n",
              "}\n",
              "\n",
              "// This is roughly an async generator (not supported in the browser yet),\n",
              "// where there are multiple asynchronous steps and the Python side is going\n",
              "// to poll for completion of each step.\n",
              "// This uses a Promise to block the python side on completion of each step,\n",
              "// then passes the result of the previous step as the input to the next step.\n",
              "function _uploadFilesContinue(outputId) {\n",
              "  const outputElement = document.getElementById(outputId);\n",
              "  const steps = outputElement.steps;\n",
              "\n",
              "  const next = steps.next(outputElement.lastPromiseValue);\n",
              "  return Promise.resolve(next.value.promise).then((value) => {\n",
              "    // Cache the last promise value to make it available to the next\n",
              "    // step of the generator.\n",
              "    outputElement.lastPromiseValue = value;\n",
              "    return next.value.response;\n",
              "  });\n",
              "}\n",
              "\n",
              "/**\n",
              " * Generator function which is called between each async step of the upload\n",
              " * process.\n",
              " * @param {string} inputId Element ID of the input file picker element.\n",
              " * @param {string} outputId Element ID of the output display.\n",
              " * @return {!Iterable<!Object>} Iterable of next steps.\n",
              " */\n",
              "function* uploadFilesStep(inputId, outputId) {\n",
              "  const inputElement = document.getElementById(inputId);\n",
              "  inputElement.disabled = false;\n",
              "\n",
              "  const outputElement = document.getElementById(outputId);\n",
              "  outputElement.innerHTML = '';\n",
              "\n",
              "  const pickedPromise = new Promise((resolve) => {\n",
              "    inputElement.addEventListener('change', (e) => {\n",
              "      resolve(e.target.files);\n",
              "    });\n",
              "  });\n",
              "\n",
              "  const cancel = document.createElement('button');\n",
              "  inputElement.parentElement.appendChild(cancel);\n",
              "  cancel.textContent = 'Cancel upload';\n",
              "  const cancelPromise = new Promise((resolve) => {\n",
              "    cancel.onclick = () => {\n",
              "      resolve(null);\n",
              "    };\n",
              "  });\n",
              "\n",
              "  // Wait for the user to pick the files.\n",
              "  const files = yield {\n",
              "    promise: Promise.race([pickedPromise, cancelPromise]),\n",
              "    response: {\n",
              "      action: 'starting',\n",
              "    }\n",
              "  };\n",
              "\n",
              "  cancel.remove();\n",
              "\n",
              "  // Disable the input element since further picks are not allowed.\n",
              "  inputElement.disabled = true;\n",
              "\n",
              "  if (!files) {\n",
              "    return {\n",
              "      response: {\n",
              "        action: 'complete',\n",
              "      }\n",
              "    };\n",
              "  }\n",
              "\n",
              "  for (const file of files) {\n",
              "    const li = document.createElement('li');\n",
              "    li.append(span(file.name, {fontWeight: 'bold'}));\n",
              "    li.append(span(\n",
              "        `(${file.type || 'n/a'}) - ${file.size} bytes, ` +\n",
              "        `last modified: ${\n",
              "            file.lastModifiedDate ? file.lastModifiedDate.toLocaleDateString() :\n",
              "                                    'n/a'} - `));\n",
              "    const percent = span('0% done');\n",
              "    li.appendChild(percent);\n",
              "\n",
              "    outputElement.appendChild(li);\n",
              "\n",
              "    const fileDataPromise = new Promise((resolve) => {\n",
              "      const reader = new FileReader();\n",
              "      reader.onload = (e) => {\n",
              "        resolve(e.target.result);\n",
              "      };\n",
              "      reader.readAsArrayBuffer(file);\n",
              "    });\n",
              "    // Wait for the data to be ready.\n",
              "    let fileData = yield {\n",
              "      promise: fileDataPromise,\n",
              "      response: {\n",
              "        action: 'continue',\n",
              "      }\n",
              "    };\n",
              "\n",
              "    // Use a chunked sending to avoid message size limits. See b/62115660.\n",
              "    let position = 0;\n",
              "    do {\n",
              "      const length = Math.min(fileData.byteLength - position, MAX_PAYLOAD_SIZE);\n",
              "      const chunk = new Uint8Array(fileData, position, length);\n",
              "      position += length;\n",
              "\n",
              "      const base64 = btoa(String.fromCharCode.apply(null, chunk));\n",
              "      yield {\n",
              "        response: {\n",
              "          action: 'append',\n",
              "          file: file.name,\n",
              "          data: base64,\n",
              "        },\n",
              "      };\n",
              "\n",
              "      let percentDone = fileData.byteLength === 0 ?\n",
              "          100 :\n",
              "          Math.round((position / fileData.byteLength) * 100);\n",
              "      percent.textContent = `${percentDone}% done`;\n",
              "\n",
              "    } while (position < fileData.byteLength);\n",
              "  }\n",
              "\n",
              "  // All done.\n",
              "  yield {\n",
              "    response: {\n",
              "      action: 'complete',\n",
              "    }\n",
              "  };\n",
              "}\n",
              "\n",
              "scope.google = scope.google || {};\n",
              "scope.google.colab = scope.google.colab || {};\n",
              "scope.google.colab._files = {\n",
              "  _uploadFiles,\n",
              "  _uploadFilesContinue,\n",
              "};\n",
              "})(self);\n",
              "</script> "
            ]
          },
          "metadata": {}
        }
      ],
      "source": [
        "from google.colab import files\n",
        "\n",
        "uploaded = files.upload()\n"
      ]
    },
    {
      "cell_type": "markdown",
      "source": [
        " استخراج النص من ملفات PDF باستخدام PyMuPDF"
      ],
      "metadata": {
        "id": "N-53OVeQtuFP"
      }
    },
    {
      "cell_type": "code",
      "source": [
        "import fitz  # PyMuPDF\n",
        "\n",
        "def extract_text_from_pdf(file_path):\n",
        "    text = \"\"\n",
        "    with fitz.open(file_path) as doc:\n",
        "        for page in doc:\n",
        "            text += page.get_text()\n",
        "    return text\n"
      ],
      "metadata": {
        "id": "wmnheiD3tpz9"
      },
      "execution_count": null,
      "outputs": []
    },
    {
      "cell_type": "markdown",
      "source": [
        "دالة لاستخراج القيم من النص باستخدام الكلمات المفتاحية"
      ],
      "metadata": {
        "id": "N-gX9dO2t0at"
      }
    },
    {
      "cell_type": "code",
      "source": [
        "def extract_financial_value(text, keyword):\n",
        "    if isinstance(keyword, list):\n",
        "        for k in keyword:\n",
        "            value = extract_financial_value(text, k)\n",
        "            if value is not None:\n",
        "                return value\n",
        "        return None\n",
        "\n",
        "    # السماح بمسافة أو فاصل قبل الرقم\n",
        "    pattern = rf\"{keyword}[^0-9\\-–]*([\\d.,]+)\"\n",
        "    match = re.search(pattern, text, re.IGNORECASE)\n",
        "    if match:\n",
        "        number = match.group(1).replace(',', '').replace('٬', '').replace('٫', '.')\n",
        "        try:\n",
        "            return float(number)\n",
        "        except:\n",
        "            return None\n",
        "    return None\n"
      ],
      "metadata": {
        "id": "yCdRUNlBtzSM"
      },
      "execution_count": null,
      "outputs": []
    },
    {
      "cell_type": "markdown",
      "source": [],
      "metadata": {
        "id": "RRM_8riWt50P"
      }
    },
    {
      "cell_type": "markdown",
      "source": [
        "تجهيز البيانات وتحليل نسبة التغيير"
      ],
      "metadata": {
        "id": "StdPQCpMwq8a"
      }
    },
    {
      "cell_type": "code",
      "source": [
        "# الكلمات المفتاحية لكل بند\n",
        "actual_keywords = {\n",
        "    \"إجمالي الموجودات\": [\"مجموع الموجودات\", \"إجمالي الموجودات\"],\n",
        "    \"إجمالي التمويلات\": [\n",
        "        \"التمويلات – بالصافي كما وردت في قائمة المركز المالي الموحدة كما في 31 كانون الأول\",\n",
        "        \"إجمالي أرصدة التمويل والاستثمار\",\n",
        "        \"أرصدة التمويل – صافي\",\n",
        "        \"إجمالي التوظيفات\",\n",
        "        \"إجمالي التمويلات\"\n",
        "    ],\n",
        "    \"حقوق الملكية\": [\n",
        "        \"حقوق الملكية\",\n",
        "        \"إجمالي حقوق الملكية\",\n",
        "        \"مجموع حقوق الملكية\",\n",
        "        \"مجموع حقوق الملكية – مساهمي البنك\"\n",
        "    ],\n",
        "    \"صافي الأرباح\": [\n",
        "        \"الربح بعد الضريبة\",\n",
        "        \"صافي الربح\",\n",
        "        \"صافي الأرباح\"\n",
        "    ],\n",
        "    \"الإيرادات التشغيلية\": [\n",
        "        \"إجمالي الدخل\",\n",
        "        \"إجمالي الإيرادات\",\n",
        "        \"الإيرادات التشغيلية\"\n",
        "    ]\n",
        "}\n",
        "\n",
        "# دالة لاستخراج القيم أو طلبها يدويًا\n",
        "def extract_or_prompt_value(text_lines, keywords_dict):\n",
        "    results = {}\n",
        "    for key, keyword_list in keywords_dict.items():\n",
        "        found = False\n",
        "        for line in text_lines:\n",
        "            for keyword in keyword_list:\n",
        "                if keyword in line:\n",
        "                    # محاولة استخراج القيمة الرقمية من السطر\n",
        "                    import re\n",
        "                    numbers = re.findall(r'[\\d,\\.]+', line)\n",
        "                    if numbers:\n",
        "                        try:\n",
        "                            value = float(numbers[0].replace(',', ''))\n",
        "                            results[key] = value\n",
        "                            found = True\n",
        "                            break\n",
        "                        except ValueError:\n",
        "                            continue\n",
        "            if found:\n",
        "                break\n",
        "        if not found:\n",
        "            # طلب إدخال يدوي عند الفشل في العثور\n",
        "            while True:\n",
        "                manual_value = input(f\"لم يتم العثور على '{key}' تلقائيًا. الرجاء إدخال القيمة يدويًا: \")\n",
        "                try:\n",
        "                    results[key] = float(manual_value.replace(',', ''))\n",
        "                    break\n",
        "                except ValueError:\n",
        "                    print(\"⚠️ الرجاء إدخال رقم صالح (مثال: 123456.78 أو 123,456).\")\n",
        "    return results\n",
        "\n",
        "# مثال تجريبي: سطور نصية مأخوذة من PDF (أو مفترضة)\n",
        "text_from_pdf = [\n",
        "    \"إجمالي الموجودات 3,000,000\",\n",
        "    \"حقوق الملكية 1,200,000\",\n",
        "    \"الربح بعد الضريبة 350,000\"\n",
        "    # البقية غائبة لاختبار الإدخال اليدوي\n",
        "]\n",
        "\n",
        "# تشغيل الدالة\n",
        "results = extract_or_prompt_value(text_from_pdf, actual_keywords)\n",
        "print(\"النتائج النهائية:\")\n",
        "for item, value in results.items():\n",
        "    print(f\"{item}: {value:,.2f}\")\n"
      ],
      "metadata": {
        "colab": {
          "base_uri": "https://localhost:8080/"
        },
        "id": "rLLiRBq10v-a",
        "outputId": "19e87fda-00a6-4010-f031-981944412c00"
      },
      "execution_count": null,
      "outputs": [
        {
          "output_type": "stream",
          "name": "stdout",
          "text": [
            "لم يتم العثور على 'إجمالي التمويلات' تلقائيًا. الرجاء إدخال القيمة يدويًا: 36,826,085\n",
            "لم يتم العثور على 'الإيرادات التشغيلية' تلقائيًا. الرجاء إدخال القيمة يدويًا: 33,157,539\n",
            "النتائج النهائية:\n",
            "إجمالي الموجودات: 3,000,000.00\n",
            "إجمالي التمويلات: 36,826,085.00\n",
            "حقوق الملكية: 1,200,000.00\n",
            "صافي الأرباح: 350,000.00\n",
            "الإيرادات التشغيلية: 33,157,539.00\n"
          ]
        }
      ]
    },
    {
      "cell_type": "markdown",
      "source": [
        "حساب نسبة التغير لكل بند"
      ],
      "metadata": {
        "id": "4bF-5uNFuOVO"
      }
    },
    {
      "cell_type": "code",
      "source": [
        "def calculate_change(values):\n",
        "    changes = []\n",
        "    for i in range(1, len(values)):\n",
        "        if values[i-1] is not None and values[i] is not None:\n",
        "            change = ((values[i] - values[i-1]) / values[i-1]) * 100\n",
        "            changes.append(round(change, 2))\n",
        "        else:\n",
        "            changes.append(None)\n",
        "    return changes\n"
      ],
      "metadata": {
        "id": "fRB9_N8huLtS"
      },
      "execution_count": null,
      "outputs": []
    },
    {
      "cell_type": "markdown",
      "source": [
        "عرض النتائج"
      ],
      "metadata": {
        "id": "1k6QbhP5uTdj"
      }
    },
    {
      "cell_type": "code",
      "source": [
        "def calculate_change(values_dict):\n",
        "    # ترتيب السنوات تصاعديًا\n",
        "    sorted_years = sorted(values_dict.keys())\n",
        "\n",
        "    # استخراج القيم بحسب ترتيب السنوات\n",
        "    values = [values_dict.get(year) for year in sorted_years]\n",
        "\n",
        "    # حساب نسبة التغير\n",
        "    changes = []\n",
        "    for i in range(1, len(values)):\n",
        "        prev = values[i - 1]\n",
        "        curr = values[i]\n",
        "        if prev and curr and prev != 0:\n",
        "            change = ((curr - prev) / prev) * 100\n",
        "            changes.append(round(change, 2))\n",
        "        else:\n",
        "            changes.append(None)\n",
        "\n",
        "    return sorted_years, values, changes\n",
        "\n"
      ],
      "metadata": {
        "id": "KWTVw3bJuQ2m"
      },
      "execution_count": null,
      "outputs": []
    },
    {
      "cell_type": "code",
      "source": [
        "from tabulate import tabulate\n",
        "\n",
        "table = []\n",
        "\n",
        "# المرور على كل بند\n",
        "for item, yearly_values in financial_data.items():\n",
        "    years, values, changes = calculate_change(yearly_values)\n",
        "\n",
        "    # إنشاء صف: [البند, 2021 القيمة, 2022 القيمة, ..., % تغير 1→2, % تغير 2→3, ...]\n",
        "    row = [item]\n",
        "    row += [f\"{v:,.2f}\" if v is not None else \"N/A\" for v in values]\n",
        "    row += [f\"{c:.2f}%\" if c is not None else \"N/A\" for c in changes]\n",
        "    table.append(row)\n",
        "\n",
        "# إنشاء رؤوس الأعمدة\n",
        "headers = [\"البند\"]\n",
        "headers += years\n",
        "headers += [f\"نسبة التغير ({years[i-1]}→{years[i]})\" for i in range(1, len(years))]\n",
        "\n",
        "# عرض الجدول\n",
        "print(tabulate(table, headers=headers, tablefmt=\"grid\", numalign=\"right\", stralign=\"center\"))\n",
        "\n"
      ],
      "metadata": {
        "colab": {
          "base_uri": "https://localhost:8080/"
        },
        "id": "q-szeTZFxH_n",
        "outputId": "db33670f-5199-4935-8196-a0284f3b92d6"
      },
      "execution_count": null,
      "outputs": [
        {
          "output_type": "stream",
          "name": "stdout",
          "text": [
            "+---------------------+----------------+----------------+----------+---------------------------+---------------------------+\n",
            "|        البند        |      2021      |      2022      |   2023   |  نسبة التغير (2021→2022)  |  نسبة التغير (2022→2023)  |\n",
            "+=====================+================+================+==========+===========================+===========================+\n",
            "|  إجمالي الموجودات   |      9.60      |      9.50      |   9.50   |          -1.04%           |           0.00%           |\n",
            "+---------------------+----------------+----------------+----------+---------------------------+---------------------------+\n",
            "|  إجمالي التمويلات   |      N/A       |      N/A       |   N/A    |            N/A            |            N/A            |\n",
            "+---------------------+----------------+----------------+----------+---------------------------+---------------------------+\n",
            "|    حقوق الملكية     |     230.00     |      1.00      |  256.00  |          -99.57%          |         25500.00%         |\n",
            "+---------------------+----------------+----------------+----------+---------------------------+---------------------------+\n",
            "|    صافي الأرباح     |    2,012.00    |    2,013.00    | 2,014.00 |           0.05%           |           0.05%           |\n",
            "+---------------------+----------------+----------------+----------+---------------------------+---------------------------+\n",
            "| الإيرادات التشغيلية | 175,518,770.00 | 174,365,139.00 |   1.00   |          -0.66%           |         -100.00%          |\n",
            "+---------------------+----------------+----------------+----------+---------------------------+---------------------------+\n"
          ]
        }
      ]
    }
  ]
}